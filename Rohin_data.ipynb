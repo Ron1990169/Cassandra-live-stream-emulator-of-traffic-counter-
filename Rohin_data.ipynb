{
 "cells": [
  {
   "cell_type": "code",
   "execution_count": null,
   "metadata": {},
   "outputs": [
    {
     "name": "stderr",
     "output_type": "stream",
     "text": [
      "C:\\Users\\tathagat\\AppData\\Local\\Programs\\Python\\Python39\\lib\\site-packages\\IPython\\core\\interactiveshell.py:3444: DtypeWarning: Columns (12,24,25) have mixed types.Specify dtype option on import or set low_memory=False.\n",
      "  exec(code_obj, self.user_global_ns, self.user_ns)\n"
     ]
    }
   ],
   "source": [
    "import time\n",
    "import pandas as pd\n",
    "import numpy as np\n",
    "df = pd.read_csv('per-vehicle-records-2021-01-29.csv')"
   ]
  },
  {
   "cell_type": "code",
   "execution_count": 5,
   "metadata": {},
   "outputs": [
    {
     "name": "stdout",
     "output_type": "stream",
     "text": [
      "countdata0.csv Generated @ 01:54:51\n",
      "countdata1.csv Generated @ 01:54:57\n",
      "countdata2.csv Generated @ 01:55:02\n",
      "countdata3.csv Generated @ 01:55:08\n",
      "countdata4.csv Generated @ 01:55:13\n",
      "countdata5.csv Generated @ 01:55:19\n",
      "countdata6.csv Generated @ 01:55:24\n",
      "countdata7.csv Generated @ 01:55:30\n",
      "countdata8.csv Generated @ 01:55:35\n",
      "countdata9.csv Generated @ 01:55:40\n",
      "countdata10.csv Generated @ 01:55:45\n",
      "countdata11.csv Generated @ 01:55:50\n",
      "countdata12.csv Generated @ 01:55:56\n",
      "countdata13.csv Generated @ 01:56:01\n",
      "countdata14.csv Generated @ 01:56:06\n",
      "countdata15.csv Generated @ 01:56:11\n",
      "countdata16.csv Generated @ 01:56:16\n",
      "countdata17.csv Generated @ 01:56:22\n",
      "countdata18.csv Generated @ 01:56:27\n"
     ]
    }
   ],
   "source": [
    "def get_class_rows(cosit,ind):\n",
    "    start = (ind - 1)*10\n",
    "    end = start + 10\n",
    "    ''' get n to n+10 rows '''\n",
    "    return df[df['cosit'] == cosit].reset_index().drop(columns=['index'])[start:end]\n",
    "\n",
    "def get_df(j):\n",
    "    counters = np.unique(df['cosit'])\n",
    "    df_send = pd.DataFrame()\n",
    "    for cnt in counters:\n",
    "        df_send = df_send.append(get_class_rows(cnt,j))\n",
    "    return df_send\n",
    "\n",
    "j = 0\n",
    "start_time = time.time()\n",
    "\n",
    "def get_random_10_rows(df):\n",
    "    return df.sample(10)\n",
    "\n",
    "    \n",
    "\n",
    "for i in df:\n",
    "    if time.time() - start_time > 100:\n",
    "        break\n",
    "    #dfop = get_df(j)\n",
    "    \n",
    "    dfop = get_random_10_rows(df)\n",
    "    dfop.to_csv('Counter/countdata'+str(int(j/10))+'.csv', header=True, index=False)\n",
    "    print('countdata'+str(int(j/10))+'.csv Generated @ ' + str(time.strftime(\"%H:%M:%S\")))\n",
    "    j = j + 10\n",
    "    time.sleep(5)"
   ]
  }
 ],
 "metadata": {
  "interpreter": {
   "hash": "8518bf23d98f2b3f35252eb21d1bd9638fd8828c99e3e21b4e2bb56587a0695a"
  },
  "kernelspec": {
   "display_name": "Python 3 (ipykernel)",
   "language": "python",
   "name": "python3"
  },
  "language_info": {
   "codemirror_mode": {
    "name": "ipython",
    "version": 3
   },
   "file_extension": ".py",
   "mimetype": "text/x-python",
   "name": "python",
   "nbconvert_exporter": "python",
   "pygments_lexer": "ipython3",
   "version": "3.9.12"
  }
 },
 "nbformat": 4,
 "nbformat_minor": 2
}
